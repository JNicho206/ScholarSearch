{
 "cells": [
  {
   "cell_type": "code",
   "execution_count": 2,
   "metadata": {},
   "outputs": [],
   "source": [
    "from transformers import BertTokenizer, BertModel"
   ]
  },
  {
   "cell_type": "code",
   "execution_count": 83,
   "metadata": {},
   "outputs": [
    {
     "data": {
      "application/vnd.jupyter.widget-view+json": {
       "model_id": "d76f1144ba0041a993dbb4dbea67b104",
       "version_major": 2,
       "version_minor": 0
      },
      "text/plain": [
       "tokenizer_config.json:   0%|          | 0.00/48.0 [00:00<?, ?B/s]"
      ]
     },
     "metadata": {},
     "output_type": "display_data"
    },
    {
     "data": {
      "application/vnd.jupyter.widget-view+json": {
       "model_id": "1080cc00a46c4d18aaae35514a632e79",
       "version_major": 2,
       "version_minor": 0
      },
      "text/plain": [
       "vocab.txt:   0%|          | 0.00/232k [00:00<?, ?B/s]"
      ]
     },
     "metadata": {},
     "output_type": "display_data"
    },
    {
     "data": {
      "application/vnd.jupyter.widget-view+json": {
       "model_id": "9225dde3a09b4ec49b627c1252d486fe",
       "version_major": 2,
       "version_minor": 0
      },
      "text/plain": [
       "tokenizer.json:   0%|          | 0.00/466k [00:00<?, ?B/s]"
      ]
     },
     "metadata": {},
     "output_type": "display_data"
    },
    {
     "ename": "KeyboardInterrupt",
     "evalue": "",
     "output_type": "error",
     "traceback": [
      "\u001b[0;31m---------------------------------------------------------------------------\u001b[0m",
      "\u001b[0;31mKeyboardInterrupt\u001b[0m                         Traceback (most recent call last)",
      "Cell \u001b[0;32mIn[83], line 2\u001b[0m\n\u001b[1;32m      1\u001b[0m tokenizer \u001b[38;5;241m=\u001b[39m BertTokenizer\u001b[38;5;241m.\u001b[39mfrom_pretrained(\u001b[38;5;124m'\u001b[39m\u001b[38;5;124mbert-large-uncased\u001b[39m\u001b[38;5;124m'\u001b[39m)\n\u001b[0;32m----> 2\u001b[0m model \u001b[38;5;241m=\u001b[39m \u001b[43mBertModel\u001b[49m\u001b[38;5;241;43m.\u001b[39;49m\u001b[43mfrom_pretrained\u001b[49m\u001b[43m(\u001b[49m\u001b[38;5;124;43m\"\u001b[39;49m\u001b[38;5;124;43mbert-large-uncased\u001b[39;49m\u001b[38;5;124;43m\"\u001b[39;49m\u001b[43m)\u001b[49m\n",
      "File \u001b[0;32m/opt/homebrew/lib/python3.11/site-packages/transformers/modeling_utils.py:3190\u001b[0m, in \u001b[0;36mPreTrainedModel.from_pretrained\u001b[0;34m(cls, pretrained_model_name_or_path, config, cache_dir, ignore_mismatched_sizes, force_download, local_files_only, token, revision, use_safetensors, *model_args, **kwargs)\u001b[0m\n\u001b[1;32m   3174\u001b[0m \u001b[39mtry\u001b[39;00m:\n\u001b[1;32m   3175\u001b[0m     \u001b[39m# Load from URL or cache if already cached\u001b[39;00m\n\u001b[1;32m   3176\u001b[0m     cached_file_kwargs \u001b[39m=\u001b[39m {\n\u001b[1;32m   3177\u001b[0m         \u001b[39m\"\u001b[39m\u001b[39mcache_dir\u001b[39m\u001b[39m\"\u001b[39m: cache_dir,\n\u001b[1;32m   3178\u001b[0m         \u001b[39m\"\u001b[39m\u001b[39mforce_download\u001b[39m\u001b[39m\"\u001b[39m: force_download,\n\u001b[0;32m   (...)\u001b[0m\n\u001b[1;32m   3188\u001b[0m         \u001b[39m\"\u001b[39m\u001b[39m_commit_hash\u001b[39m\u001b[39m\"\u001b[39m: commit_hash,\n\u001b[1;32m   3189\u001b[0m     }\n\u001b[0;32m-> 3190\u001b[0m     resolved_archive_file \u001b[39m=\u001b[39m cached_file(pretrained_model_name_or_path, filename, \u001b[39m*\u001b[39;49m\u001b[39m*\u001b[39;49mcached_file_kwargs)\n\u001b[1;32m   3192\u001b[0m     \u001b[39m# Since we set _raise_exceptions_for_missing_entries=False, we don't get an exception but a None\u001b[39;00m\n\u001b[1;32m   3193\u001b[0m     \u001b[39m# result when internet is up, the repo and revision exist, but the file does not.\u001b[39;00m\n\u001b[1;32m   3194\u001b[0m     \u001b[39mif\u001b[39;00m resolved_archive_file \u001b[39mis\u001b[39;00m \u001b[39mNone\u001b[39;00m \u001b[39mand\u001b[39;00m filename \u001b[39m==\u001b[39m _add_variant(SAFE_WEIGHTS_NAME, variant):\n\u001b[1;32m   3195\u001b[0m         \u001b[39m# Maybe the checkpoint is sharded, we try to grab the index name in this case.\u001b[39;00m\n",
      "File \u001b[0;32m/opt/homebrew/lib/python3.11/site-packages/transformers/utils/hub.py:398\u001b[0m, in \u001b[0;36mcached_file\u001b[0;34m(path_or_repo_id, filename, cache_dir, force_download, resume_download, proxies, token, revision, local_files_only, subfolder, repo_type, user_agent, _raise_exceptions_for_gated_repo, _raise_exceptions_for_missing_entries, _raise_exceptions_for_connection_errors, _commit_hash, **deprecated_kwargs)\u001b[0m\n\u001b[1;32m    395\u001b[0m user_agent \u001b[39m=\u001b[39m http_user_agent(user_agent)\n\u001b[1;32m    396\u001b[0m \u001b[39mtry\u001b[39;00m:\n\u001b[1;32m    397\u001b[0m     \u001b[39m# Load from URL or cache if already cached\u001b[39;00m\n\u001b[0;32m--> 398\u001b[0m     resolved_file \u001b[39m=\u001b[39m hf_hub_download(\n\u001b[1;32m    399\u001b[0m         path_or_repo_id,\n\u001b[1;32m    400\u001b[0m         filename,\n\u001b[1;32m    401\u001b[0m         subfolder\u001b[39m=\u001b[39;49m\u001b[39mNone\u001b[39;49;00m \u001b[39mif\u001b[39;49;00m \u001b[39mlen\u001b[39;49m(subfolder) \u001b[39m==\u001b[39;49m \u001b[39m0\u001b[39;49m \u001b[39melse\u001b[39;49;00m subfolder,\n\u001b[1;32m    402\u001b[0m         repo_type\u001b[39m=\u001b[39;49mrepo_type,\n\u001b[1;32m    403\u001b[0m         revision\u001b[39m=\u001b[39;49mrevision,\n\u001b[1;32m    404\u001b[0m         cache_dir\u001b[39m=\u001b[39;49mcache_dir,\n\u001b[1;32m    405\u001b[0m         user_agent\u001b[39m=\u001b[39;49muser_agent,\n\u001b[1;32m    406\u001b[0m         force_download\u001b[39m=\u001b[39;49mforce_download,\n\u001b[1;32m    407\u001b[0m         proxies\u001b[39m=\u001b[39;49mproxies,\n\u001b[1;32m    408\u001b[0m         resume_download\u001b[39m=\u001b[39;49mresume_download,\n\u001b[1;32m    409\u001b[0m         token\u001b[39m=\u001b[39;49mtoken,\n\u001b[1;32m    410\u001b[0m         local_files_only\u001b[39m=\u001b[39;49mlocal_files_only,\n\u001b[1;32m    411\u001b[0m     )\n\u001b[1;32m    412\u001b[0m \u001b[39mexcept\u001b[39;00m GatedRepoError \u001b[39mas\u001b[39;00m e:\n\u001b[1;32m    413\u001b[0m     resolved_file \u001b[39m=\u001b[39m _get_cache_file_to_return(path_or_repo_id, full_filename, cache_dir, revision)\n",
      "File \u001b[0;32m/opt/homebrew/lib/python3.11/site-packages/huggingface_hub/utils/_validators.py:119\u001b[0m, in \u001b[0;36mvalidate_hf_hub_args.<locals>._inner_fn\u001b[0;34m(*args, **kwargs)\u001b[0m\n\u001b[1;32m    116\u001b[0m \u001b[39mif\u001b[39;00m check_use_auth_token:\n\u001b[1;32m    117\u001b[0m     kwargs \u001b[39m=\u001b[39m smoothly_deprecate_use_auth_token(fn_name\u001b[39m=\u001b[39mfn\u001b[39m.\u001b[39m\u001b[39m__name__\u001b[39m, has_token\u001b[39m=\u001b[39mhas_token, kwargs\u001b[39m=\u001b[39mkwargs)\n\u001b[0;32m--> 119\u001b[0m \u001b[39mreturn\u001b[39;00m fn(\u001b[39m*\u001b[39;49margs, \u001b[39m*\u001b[39;49m\u001b[39m*\u001b[39;49mkwargs)\n",
      "File \u001b[0;32m/opt/homebrew/lib/python3.11/site-packages/huggingface_hub/file_download.py:1451\u001b[0m, in \u001b[0;36mhf_hub_download\u001b[0;34m(repo_id, filename, subfolder, repo_type, revision, library_name, library_version, cache_dir, local_dir, local_dir_use_symlinks, user_agent, force_download, force_filename, proxies, etag_timeout, resume_download, token, local_files_only, headers, legacy_cache_layout, endpoint)\u001b[0m\n\u001b[1;32m   1448\u001b[0m     blob_path \u001b[39m=\u001b[39m \u001b[39m\"\u001b[39m\u001b[39m\\\\\u001b[39;00m\u001b[39m\\\\\u001b[39;00m\u001b[39m?\u001b[39m\u001b[39m\\\\\u001b[39;00m\u001b[39m\"\u001b[39m \u001b[39m+\u001b[39m os\u001b[39m.\u001b[39mpath\u001b[39m.\u001b[39mabspath(blob_path)\n\u001b[1;32m   1450\u001b[0m Path(lock_path)\u001b[39m.\u001b[39mparent\u001b[39m.\u001b[39mmkdir(parents\u001b[39m=\u001b[39m\u001b[39mTrue\u001b[39;00m, exist_ok\u001b[39m=\u001b[39m\u001b[39mTrue\u001b[39;00m)\n\u001b[0;32m-> 1451\u001b[0m \u001b[39mwith\u001b[39;49;00m WeakFileLock(lock_path):\n\u001b[1;32m   1452\u001b[0m     \u001b[39m# If the download just completed while the lock was activated.\u001b[39;49;00m\n\u001b[1;32m   1453\u001b[0m     \u001b[39mif\u001b[39;49;00m os\u001b[39m.\u001b[39;49mpath\u001b[39m.\u001b[39;49mexists(pointer_path) \u001b[39mand\u001b[39;49;00m \u001b[39mnot\u001b[39;49;00m force_download:\n\u001b[1;32m   1454\u001b[0m         \u001b[39m# Even if returning early like here, the lock will be released.\u001b[39;49;00m\n\u001b[1;32m   1455\u001b[0m         \u001b[39mif\u001b[39;49;00m local_dir \u001b[39mis\u001b[39;49;00m \u001b[39mnot\u001b[39;49;00m \u001b[39mNone\u001b[39;49;00m:\n",
      "File \u001b[0;32m/opt/homebrew/Cellar/python@3.11/3.11.4_1/Frameworks/Python.framework/Versions/3.11/lib/python3.11/contextlib.py:137\u001b[0m, in \u001b[0;36m_GeneratorContextManager.__enter__\u001b[0;34m(self)\u001b[0m\n\u001b[1;32m    135\u001b[0m \u001b[39mdel\u001b[39;00m \u001b[39mself\u001b[39m\u001b[39m.\u001b[39margs, \u001b[39mself\u001b[39m\u001b[39m.\u001b[39mkwds, \u001b[39mself\u001b[39m\u001b[39m.\u001b[39mfunc\n\u001b[1;32m    136\u001b[0m \u001b[39mtry\u001b[39;00m:\n\u001b[0;32m--> 137\u001b[0m     \u001b[39mreturn\u001b[39;00m \u001b[39mnext\u001b[39m(\u001b[39mself\u001b[39m\u001b[39m.\u001b[39mgen)\n\u001b[1;32m    138\u001b[0m \u001b[39mexcept\u001b[39;00m \u001b[39mStopIteration\u001b[39;00m:\n\u001b[1;32m    139\u001b[0m     \u001b[39mraise\u001b[39;00m \u001b[39mRuntimeError\u001b[39;00m(\u001b[39m\"\u001b[39m\u001b[39mgenerator didn\u001b[39m\u001b[39m'\u001b[39m\u001b[39mt yield\u001b[39m\u001b[39m\"\u001b[39m) \u001b[39mfrom\u001b[39;00m \u001b[39mNone\u001b[39;00m\n",
      "File \u001b[0;32m/opt/homebrew/lib/python3.11/site-packages/huggingface_hub/utils/_fixes.py:83\u001b[0m, in \u001b[0;36mWeakFileLock\u001b[0;34m(lock_file)\u001b[0m\n\u001b[1;32m     80\u001b[0m \u001b[39m@contextlib\u001b[39m\u001b[39m.\u001b[39mcontextmanager\n\u001b[1;32m     81\u001b[0m \u001b[39mdef\u001b[39;00m \u001b[39mWeakFileLock\u001b[39m(lock_file: Union[\u001b[39mstr\u001b[39m, Path]) \u001b[39m-\u001b[39m\u001b[39m>\u001b[39m Generator[BaseFileLock, \u001b[39mNone\u001b[39;00m, \u001b[39mNone\u001b[39;00m]:\n\u001b[1;32m     82\u001b[0m     lock \u001b[39m=\u001b[39m FileLock(lock_file)\n\u001b[0;32m---> 83\u001b[0m     lock\u001b[39m.\u001b[39;49macquire()\n\u001b[1;32m     85\u001b[0m     \u001b[39myield\u001b[39;00m lock\n\u001b[1;32m     87\u001b[0m     \u001b[39mtry\u001b[39;00m:\n",
      "File \u001b[0;32m/opt/homebrew/lib/python3.11/site-packages/filelock/_api.py:267\u001b[0m, in \u001b[0;36mBaseFileLock.acquire\u001b[0;34m(self, timeout, poll_interval, poll_intervall, blocking)\u001b[0m\n\u001b[1;32m    265\u001b[0m         msg \u001b[39m=\u001b[39m \u001b[39m\"\u001b[39m\u001b[39mLock \u001b[39m\u001b[39m%s\u001b[39;00m\u001b[39m not acquired on \u001b[39m\u001b[39m%s\u001b[39;00m\u001b[39m, waiting \u001b[39m\u001b[39m%s\u001b[39;00m\u001b[39m seconds ...\u001b[39m\u001b[39m\"\u001b[39m\n\u001b[1;32m    266\u001b[0m         _LOGGER\u001b[39m.\u001b[39mdebug(msg, lock_id, lock_filename, poll_interval)\n\u001b[0;32m--> 267\u001b[0m         time\u001b[39m.\u001b[39msleep(poll_interval)\n\u001b[1;32m    268\u001b[0m \u001b[39mexcept\u001b[39;00m \u001b[39mBaseException\u001b[39;00m:  \u001b[39m# Something did go wrong, so decrement the counter.\u001b[39;00m\n\u001b[1;32m    269\u001b[0m     \u001b[39mself\u001b[39m\u001b[39m.\u001b[39m_context\u001b[39m.\u001b[39mlock_counter \u001b[39m=\u001b[39m \u001b[39mmax\u001b[39m(\u001b[39m0\u001b[39m, \u001b[39mself\u001b[39m\u001b[39m.\u001b[39m_context\u001b[39m.\u001b[39mlock_counter \u001b[39m-\u001b[39m \u001b[39m1\u001b[39m)\n",
      "\u001b[0;31mKeyboardInterrupt\u001b[0m: "
     ]
    }
   ],
   "source": [
    "tokenizer = BertTokenizer.from_pretrained('bert-large-uncased')\n",
    "model = BertModel.from_pretrained(\"bert-large-uncased\")"
   ]
  },
  {
   "cell_type": "code",
   "execution_count": 79,
   "metadata": {},
   "outputs": [],
   "source": [
    "text = 'if there is a (non-deterministic)\\ninput asked from the user, and a random vertex if the evolution depends on a stochastic\\nenvironment. An optimal strategy for Min can then be used as the basis for the synthesis\\nof a “good” driver, i.e. one which minimises the probability of entering the error state\\nindependently of the behaviour of the user.\\nThe main algorithmic problem about SSGs is the computation of values of the vertices\\nand optimal strategies for the players. This problem was first adressed by Condon, who\\nshowed that deciding whether the value of a vertex is greater than 1\\n2 belongs to NP and\\nco-NP [Con92].\\nCondon’s algorithm guesses non-deterministically the values of vertices,\\nwhich are rational numbers of linear size, and checks that they are solutions of some local\\noptimality equations. This algorithm is correct only for stopping games, where the pebble\\nreaches either the target or a sink target with probability one, regardless of the players’\\nstrategies.\\nAny SSG can be transformed in polynomial time into a stopping SSG with\\n(almost) the same values, but it incurs a quadratic blow-up of the size of the game.\\nThree other algorithms for solving SSGs are presented in [Con93]. The first one com-\\nputes the values of the vertices using a quadratic program with linear constraints. The\\nsecond one computes iteratively from below the values of the vertices, and the third is a\\nstrategy improvement algorithm `\\na la Hoffman-Karp [HK66]. The two latter algorithms,\\nas the ones recently proposed in [Som05], solve a series of linear programs which could be\\nof exponential length. Furthermore, solving a linear program requires high-precision arith-\\nmetic, even if it can be done in polynomial time [Kha79, Ren88]. The best randomised\\nalgorithms achieve sub-exponential expected time eO(√n) [Lud95, Hal07].\\nIn this paper we present two algorithms computing the values and optimal strategies\\nin SSGs: the “permutation-enumeration” and the “permutation-improvement” algorithms.\\nThe common basis for both algorithms is that optimal strategies can be looked for in a\\nsubset of the positional strategies called permutation strategies. Permutation strategies are\\nderived from permutations over the random vertices. In order to find optimal strategies, the\\npermutation-enumeration algorithm performs an exhaustive search among all permutation\\nstrategies, whereas the permutation-improvement algorithm performs successive improve-\\nments of permutation strategies, `\\na la Hoffman-Karp [HK66].'\n",
    "len(text.split())\n",
    "te = \"I went to the store.\""
   ]
  },
  {
   "cell_type": "code",
   "execution_count": 82,
   "metadata": {},
   "outputs": [
    {
     "name": "stdout",
     "output_type": "stream",
     "text": [
      "tensor([[ 101, 1045, 2253, 2000, 1996, 3573, 1012,  102]])\n"
     ]
    }
   ],
   "source": [
    "encoded_input = tokenizer(te, return_tensors='pt')\n",
    "print(encoded_input.input_ids)\n"
   ]
  },
  {
   "cell_type": "code",
   "execution_count": 13,
   "metadata": {},
   "outputs": [
    {
     "name": "stdout",
     "output_type": "stream",
     "text": [
      "torch.Size([1, 768])\n"
     ]
    }
   ],
   "source": [
    "output = model(**encoded_input)\n",
    "#print(output)\n",
    "print(output.pooler_output.shape)"
   ]
  },
  {
   "cell_type": "code",
   "execution_count": 21,
   "metadata": {},
   "outputs": [],
   "source": [
    "import json\n",
    "import torch"
   ]
  },
  {
   "cell_type": "code",
   "execution_count": 31,
   "metadata": {},
   "outputs": [],
   "source": [
    "tokenizer = BertTokenizer.from_pretrained('bert-base-uncased')\n",
    "model = BertModel.from_pretrained(\"bert-base-uncased\")"
   ]
  },
  {
   "cell_type": "code",
   "execution_count": 14,
   "metadata": {},
   "outputs": [],
   "source": [
    "def tokenize_entry(line):\n",
    "    entry = json.loads(line)\n",
    "    abstract = entry[\"abstract\"]\n",
    "    title = entry[\"title\"]\n",
    "    joined = title + \": \" + abstract\n",
    "    tokenized = tokenizer(joined, return_tensors=\"pt\")"
   ]
  },
  {
   "cell_type": "code",
   "execution_count": 41,
   "metadata": {},
   "outputs": [],
   "source": [
    "def generate_chunks(encoded):\n",
    "    chunk_size = 512  # BERT's maximum input size\n",
    "\n",
    "    input_ids = encoded_input['input_ids'].squeeze(0)  # Remove the batch dimension\n",
    "    attention_mask = encoded_input['attention_mask'].squeeze(0)\n",
    "\n",
    "    input_ids_chunks = []\n",
    "    attention_mask_chunks = []\n",
    "\n",
    "    for i in range(0, len(input_ids), chunk_size - 2):  # Account for special tokens\n",
    "        # Extract segments of the tokenized input\n",
    "        input_ids_chunk = input_ids[i:i + chunk_size - 2]\n",
    "        attention_mask_chunk = attention_mask[i:i + chunk_size - 2]\n",
    "\n",
    "        # Add special tokens ([CLS] and [SEP]) to the chunks\n",
    "        input_ids_chunk = torch.cat([\n",
    "            torch.tensor([tokenizer.cls_token_id]),  # [CLS] at the beginning\n",
    "            input_ids_chunk,\n",
    "            torch.tensor([tokenizer.sep_token_id])  # [SEP] at the end\n",
    "        ])\n",
    "        attention_mask_chunk = torch.cat([\n",
    "            torch.tensor([1]),  # Attention mask for [CLS]\n",
    "            attention_mask_chunk,\n",
    "            torch.tensor([1])  # Attention mask for [SEP]\n",
    "        ])\n",
    "\n",
    "        # Pad the chunks to the chunk size\n",
    "        padding_length = chunk_size - input_ids_chunk.size(0)\n",
    "        if padding_length > 0:\n",
    "            input_ids_chunk = torch.cat([input_ids_chunk, torch.zeros(padding_length, dtype=torch.long)])\n",
    "            attention_mask_chunk = torch.cat([attention_mask_chunk, torch.zeros(padding_length, dtype=torch.long)])\n",
    "\n",
    "        input_ids_chunks.append(input_ids_chunk.unsqueeze(0))  # Add batch dimension\n",
    "        attention_mask_chunks.append(attention_mask_chunk.unsqueeze(0))  # Add batch dimension\n",
    "\n",
    "    input_ids_chunks = torch.cat(input_ids_chunks, dim=0)\n",
    "    attention_mask_chunks = torch.cat(attention_mask_chunks, dim=0)\n",
    "\n",
    "    return input_ids_chunks, attention_mask_chunks"
   ]
  },
  {
   "cell_type": "code",
   "execution_count": 42,
   "metadata": {},
   "outputs": [],
   "source": [
    "inp, att = generate_chunks(encoded_input)"
   ]
  },
  {
   "cell_type": "code",
   "execution_count": 66,
   "metadata": {},
   "outputs": [
    {
     "name": "stdout",
     "output_type": "stream",
     "text": [
      "torch.Size([512])\n",
      "torch.Size([512])\n"
     ]
    }
   ],
   "source": [
    "inp.shape, att.shape\n",
    "for n in range(inp.shape[0]):\n",
    "    print(inp[n].shape)"
   ]
  },
  {
   "cell_type": "code",
   "execution_count": 100,
   "metadata": {},
   "outputs": [],
   "source": [
    "def generate_embedding(input_chunks, attention_chunks):\n",
    "    embeddings = []\n",
    "    with torch.no_grad():\n",
    "        for input_chunk, attention_chunk in zip(input_chunks, attention_chunks): # tensor [512] & tensor [512]\n",
    "            embeddings.append(model(input_ids=input_chunk.unsqueeze(0), attention_mask=attention_chunk.unsqueeze(0))# Model expects [1,512] shape\n",
    "                            .pooler_output[0]) # pooler_output.shape = [1, 768]\n",
    "\n",
    "    if len(embeddings) == 1: \n",
    "        return embeddings[0]\n",
    "\n",
    "    return torch.mean(torch.stack(embeddings), dim=0)       \n",
    "    "
   ]
  },
  {
   "cell_type": "code",
   "execution_count": 102,
   "metadata": {},
   "outputs": [
    {
     "data": {
      "text/plain": [
       "array([-0.6220543 , -0.33725995, -0.9074133 ,  0.28864622,  0.6986108 ,\n",
       "       -0.16639835,  0.0815863 ,  0.13572222, -0.7121061 , -0.9999281 ,\n",
       "       -0.336446  ,  0.64945245,  0.9325261 ,  0.3047979 ,  0.37368822,\n",
       "       -0.39301878,  0.37734118, -0.35326958,  0.18880358,  0.5457956 ,\n",
       "        0.25987962,  0.9999927 , -0.01962734,  0.24808371,  0.20495851,\n",
       "        0.7610008 , -0.45595765,  0.6455927 ,  0.86710995,  0.66149855,\n",
       "       -0.11816373,  0.02685865, -0.96441746, -0.14318499, -0.95499897,\n",
       "       -0.97415763,  0.3213859 , -0.40492025, -0.03221555,  0.00517625,\n",
       "       -0.67411816,  0.32913372,  0.9999748 , -0.3365166 ,  0.5826086 ,\n",
       "       -0.0694285 , -0.9999058 ,  0.2498289 , -0.6484609 ,  0.8074957 ,\n",
       "        0.780831  ,  0.8868296 ,  0.0550229 ,  0.35060847,  0.47958905,\n",
       "       -0.5278735 , -0.1786366 ,  0.17421943, -0.3022453 , -0.4684335 ,\n",
       "       -0.4151519 ,  0.21276051, -0.68606496, -0.7311013 ,  0.7853577 ,\n",
       "        0.71325636, -0.0033311 , -0.3059155 , -0.09873156, -0.04898597,\n",
       "        0.43636295,  0.13832529, -0.3897452 , -0.56889945,  0.6414368 ,\n",
       "        0.2978628 , -0.7327268 ,  0.9999999 ,  0.01536131, -0.93330574,\n",
       "        0.86427236,  0.7024636 ,  0.6644199 , -0.3694962 ,  0.5213474 ,\n",
       "       -0.9999987 ,  0.5993894 , -0.13755453, -0.9492497 ,  0.16687372,\n",
       "        0.4990872 , -0.15226558,  0.79115313,  0.6824093 , -0.5582155 ,\n",
       "       -0.48195285, -0.24128345, -0.9096229 , -0.15182623, -0.59219575,\n",
       "        0.08060441, -0.26258162, -0.3420599 , -0.33915013,  0.4259478 ,\n",
       "       -0.4044351 ,  0.28104806,  0.60873383,  0.02401643,  0.5888368 ,\n",
       "        0.63093925, -0.3737325 ,  0.3966634 , -0.7815081 ,  0.39372844,\n",
       "       -0.33939606, -0.96284294, -0.7414659 , -0.9347647 ,  0.6683006 ,\n",
       "       -0.15099828, -0.3695511 ,  0.5622108 , -0.46147943,  0.35181892,\n",
       "       -0.04645262, -0.8301642 , -1.        , -0.3373652 , -0.80756164,\n",
       "       -0.041748  , -0.15956242, -0.92400837, -0.8999108 ,  0.6263176 ,\n",
       "        0.85957193,  0.24418053,  0.9998354 , -0.1374353 ,  0.8005285 ,\n",
       "        0.15832785, -0.70468247,  0.2549424 , -0.10970081,  0.7975674 ,\n",
       "       -0.4103066 ,  0.03193303,  0.13175446, -0.39292592,  0.15738827,\n",
       "       -0.5756655 , -0.23506166, -0.778679  , -0.57912284, -0.24469031,\n",
       "        0.7243483 , -0.31875497, -0.86476266,  0.03475146, -0.01865681,\n",
       "       -0.18122381,  0.63814753,  0.7358298 ,  0.23604749, -0.31216705,\n",
       "        0.30102172, -0.0891206 ,  0.25914168, -0.610575  ,  0.22105463,\n",
       "        0.22277944, -0.25941166, -0.9097794 , -0.92279434, -0.29306233,\n",
       "        0.18903708,  0.9288168 ,  0.36752686,  0.3141261 ,  0.43185967,\n",
       "       -0.36447078,  0.39313304, -0.85753804,  0.9430197 ,  0.10274368,\n",
       "        0.08281048, -0.8110045 ,  0.60767144, -0.6652523 ,  0.16808376,\n",
       "        0.34967044, -0.32033798, -0.76035255, -0.09933085, -0.5210155 ,\n",
       "       -0.30293167, -0.82359105,  0.44484168, -0.22621623, -0.34854135,\n",
       "       -0.02371051,  0.7246754 ,  0.74303854,  0.15422854,  0.38959014,\n",
       "        0.5141363 , -0.48146558,  0.34278837, -0.1072473 ,  0.17940965,\n",
       "        0.03355829,  0.94513154, -0.8675587 , -0.01747356, -0.60372233,\n",
       "       -0.8996506 , -0.14450854, -0.44371474,  0.0170387 , -0.5891775 ,\n",
       "        0.5643738 , -0.5624209 ,  0.06772609,  0.0869412 ,  0.18279627,\n",
       "       -0.44333798,  0.04545764, -0.5887916 ,  0.48747805, -0.27185264,\n",
       "        0.9420934 ,  0.9405762 , -0.54930735, -0.53393   ,  0.9545191 ,\n",
       "       -0.9154464 , -0.6929376 , -0.24781466, -0.36375076,  0.42841816,\n",
       "       -0.46701685,  0.98126113,  0.82084465,  0.18379095, -0.6546293 ,\n",
       "       -0.7852559 , -0.4513626 , -0.39316556, -0.16011429, -0.1371915 ,\n",
       "        0.77568454,  0.7490264 ,  0.23769112,  0.00568315, -0.27184004,\n",
       "        0.2482562 , -0.9601519 , -0.85086954, -0.9525063 ,  0.28330755,\n",
       "       -0.97404045,  0.81544745,  0.18955633,  0.790766  , -0.48361826,\n",
       "       -0.33783278, -0.87017345,  0.12658863, -0.02380673,  0.58374685,\n",
       "       -0.59048426, -0.2705891 , -0.55251586, -0.7984034 , -0.12435046,\n",
       "       -0.08506327, -0.32915032,  0.03793631, -0.7216667 ,  0.47335976,\n",
       "        0.3929633 ,  0.2893741 , -0.86568016,  0.73891854,  0.9999996 ,\n",
       "        0.89338386,  0.6224301 , -0.11734702, -0.9998721 , -0.904971  ,\n",
       "        0.99996525, -0.958388  , -0.9999995 , -0.71698666, -0.515748  ,\n",
       "        0.09309972, -1.        , -0.14241527,  0.04545207, -0.6639223 ,\n",
       "        0.6603648 ,  0.87806726,  0.168851  , -0.99999994,  0.7922101 ,\n",
       "        0.65044105, -0.7341148 ,  0.5097887 , -0.41029155,  0.9038173 ,\n",
       "        0.44597292,  0.65962535, -0.00104509,  0.37295425, -0.9180386 ,\n",
       "       -0.475581  , -0.5822967 , -0.75197697,  0.9985858 ,  0.11112326,\n",
       "       -0.69099057, -0.3437127 ,  0.6204187 , -0.01892358, -0.08431752,\n",
       "       -0.8560656 , -0.29097134,  0.14149365,  0.69599867,  0.24708673,\n",
       "        0.19127777, -0.09731604,  0.4344355 ,  0.61117595, -0.1942669 ,\n",
       "        0.7314179 , -0.8322127 ,  0.0399664 , -0.29703283, -0.04589701,\n",
       "       -0.5248081 , -0.9463787 ,  0.8623674 , -0.30401778,  0.7364194 ,\n",
       "        1.        ,  0.85396516, -0.24688625,  0.54494214,  0.09465053,\n",
       "       -0.6901517 ,  0.99999964,  0.7680309 , -0.93272686, -0.7597861 ,\n",
       "        0.64284784, -0.5178727 , -0.50608444,  0.99800944, -0.13139749,\n",
       "       -0.73832524, -0.41758117,  0.9497213 , -0.96703136,  0.99651635,\n",
       "       -0.2749047 , -0.8563986 ,  0.81276023,  0.766297  , -0.37440935,\n",
       "       -0.77717626, -0.12886451, -0.5765511 ,  0.33339947, -0.3269343 ,\n",
       "        0.2668948 ,  0.18341045, -0.04404899,  0.6290382 ,  0.20292386,\n",
       "       -0.72880363,  0.28012955, -0.5732564 ,  0.08673778,  0.96641314,\n",
       "        0.32967222, -0.30189505, -0.23368339, -0.04260697, -0.8111799 ,\n",
       "       -0.7671548 ,  0.6494894 ,  0.9999999 , -0.17396978,  0.8192218 ,\n",
       "        0.15993066, -0.08064269,  0.01998458,  0.447943  ,  0.54937553,\n",
       "       -0.06071186, -0.7454045 ,  0.8220775 , -0.1691356 , -0.96197855,\n",
       "       -0.10702345,  0.06122249, -0.07804842,  0.99849075,  0.47106284,\n",
       "        0.12317111,  0.20983702,  0.9136777 ,  0.07120758,  0.04992411,\n",
       "        0.7928953 ,  0.9471364 , -0.23103851,  0.7484448 ,  0.01176088,\n",
       "       -0.80081725, -0.25495282, -0.5655904 , -0.0640962 , -0.8922782 ,\n",
       "        0.00954001, -0.84439737,  0.9004004 ,  0.8885969 ,  0.22966054,\n",
       "        0.24909925,  0.8724841 ,  1.        , -0.976769  ,  0.11864731,\n",
       "        0.64492035, -0.35927403, -0.9998393 ,  0.22982804, -0.20617652,\n",
       "       -0.13015255, -0.7696687 , -0.1634666 ,  0.24956988, -0.9192407 ,\n",
       "        0.6907618 ,  0.5335682 , -0.03635979, -0.89922893, -0.47683778,\n",
       "        0.14097324,  0.04921644, -0.9850666 , -0.08951694, -0.47063506,\n",
       "        0.26694787, -0.30647153, -0.62022984, -0.13625658, -0.23242486,\n",
       "        0.39926696, -0.4377581 ,  0.7328086 ,  0.8638887 ,  0.82469785,\n",
       "       -0.9555261 , -0.4235803 , -0.0271955 , -0.41430712,  0.26093632,\n",
       "       -0.47789085, -0.7793087 , -0.18952405,  0.99999994, -0.53087366,\n",
       "        0.9317754 ,  0.1826313 ,  0.16340041, -0.11813121,  0.26540518,\n",
       "        0.9597768 ,  0.23640159, -0.46146387, -0.7556801 ,  0.7616945 ,\n",
       "       -0.42433822,  0.46232283,  0.8398026 ,  0.67991877,  0.44941574,\n",
       "        0.86260426,  0.05548122, -0.00204151, -0.13936251,  0.4116455 ,\n",
       "       -0.0157967 ,  0.00370687, -0.23451903, -0.10051984, -0.14226852,\n",
       "        0.7853681 ,  0.99999994,  0.27686068,  0.7101396 , -0.9546978 ,\n",
       "       -0.7796018 , -0.43757883,  0.99999934,  0.6518969 , -0.7056687 ,\n",
       "        0.5717821 ,  0.5338476 , -0.0917258 ,  0.0166195 , -0.29485086,\n",
       "       -0.15950432,  0.04599321,  0.06857362,  0.74826086, -0.3682322 ,\n",
       "       -0.92521024, -0.64227337,  0.20427969, -0.81002295,  0.9999279 ,\n",
       "       -0.5505887 , -0.16560802, -0.29480663, -0.26121154, -0.861897  ,\n",
       "        0.04799755, -0.8886538 ,  0.04184968, -0.01903724,  0.8370534 ,\n",
       "        0.42095166, -0.7158084 , -0.51877   ,  0.8881638 ,  0.76232135,\n",
       "       -0.7363731 , -0.7898153 ,  0.82614493, -0.67872834,  0.3927197 ,\n",
       "        0.99999523,  0.5432029 ,  0.40391982,  0.16403346, -0.05352821,\n",
       "        0.14889455, -0.68799645,  0.20192969, -0.7947395 , -0.22827375,\n",
       "       -0.15984331,  0.22706193, -0.18856198, -0.8858784 ,  0.1806755 ,\n",
       "        0.17009285, -0.72146845, -0.40078074, -0.08268752,  0.41144794,\n",
       "        0.6390439 , -0.00886913, -0.095598  ,  0.06092988, -0.034091  ,\n",
       "       -0.35458368, -0.37896204, -0.4088483 , -0.99999106,  0.3529368 ,\n",
       "       -0.99999994,  0.72238433,  0.01928347, -0.10984106,  0.6933726 ,\n",
       "        0.726835  ,  0.7080811 , -0.32908466, -0.77577066,  0.38433886,\n",
       "        0.2805041 , -0.27166855, -0.09615938, -0.2508208 ,  0.30718833,\n",
       "        0.08644693, -0.03896538, -0.46622568,  0.5157167 , -0.19385913,\n",
       "        0.99999994, -0.01689471, -0.3278861 , -0.08874571,  0.15087757,\n",
       "       -0.31779915,  0.9999997 , -0.2771954 , -0.88417506,  0.1516243 ,\n",
       "       -0.6887923 , -0.5164368 ,  0.2735758 ,  0.21462545, -0.5805633 ,\n",
       "       -0.92293096,  0.32561725,  0.19819513, -0.72411627,  0.39791882,\n",
       "       -0.05079374, -0.34442365, -0.0505951 ,  0.8572682 ,  0.931743  ,\n",
       "        0.7749224 ,  0.6079703 , -0.42762002, -0.41949993,  0.8705107 ,\n",
       "        0.3140549 , -0.3328062 ,  0.00190569,  0.9999994 ,  0.29390037,\n",
       "       -0.8066491 , -0.01867951, -0.68106246, -0.08291993, -0.6582979 ,\n",
       "        0.1362384 ,  0.37180054,  0.8006125 , -0.2492527 ,  0.73279524,\n",
       "       -0.8240818 , -0.15177304, -0.39264417, -0.42857605,  0.15537742,\n",
       "       -0.7192879 , -0.94087803, -0.9465499 ,  0.53509676, -0.31129932,\n",
       "       -0.22601566,  0.12117085, -0.01992205,  0.31111702,  0.17254318,\n",
       "       -0.99999994,  0.8383639 ,  0.40141463,  0.8399675 ,  0.8021456 ,\n",
       "        0.51760095,  0.59845567,  0.21096452, -0.91403145,  0.22700249,\n",
       "       -0.25573865, -0.23986119,  0.32661226,  0.49912268,  0.6196493 ,\n",
       "        0.11167097, -0.34532815, -0.47749078, -0.6625178 , -0.8719618 ,\n",
       "       -0.96289635,  0.2921412 , -0.30222887,  0.02670625,  0.87476486,\n",
       "       -0.07649842, -0.11134253, -0.0185011 , -0.84351116, -0.23107406,\n",
       "        0.64361286, -0.1081534 , -0.18932018,  0.3204605 ,  0.65027666,\n",
       "        0.5450834 ,  0.93904686, -0.856765  ,  0.3849589 , -0.5617142 ,\n",
       "        0.5112756 ,  0.9705215 , -0.9173076 ,  0.18893383,  0.6142903 ,\n",
       "       -0.08956371,  0.30491275, -0.28129858,  0.08964249,  0.9687636 ,\n",
       "       -0.3154633 ,  0.2796616 , -0.34744164,  0.17644392, -0.40414155,\n",
       "       -0.25678864, -0.6958291 , -0.39944488,  0.6703911 , -0.0131954 ,\n",
       "        0.6827575 ,  0.8085989 ,  0.02373732, -0.23691237, -0.21216549,\n",
       "       -0.6224913 , -0.87364995,  0.02794972,  0.10442021, -0.14296462,\n",
       "        0.8287016 , -0.17330123,  0.9892976 ,  0.3604563 , -0.3312409 ,\n",
       "       -0.19779366, -0.56171346,  0.30858642, -0.7813133 , -0.57176137,\n",
       "       -0.35179216,  0.45638755,  0.31857833,  0.9999887 , -0.63445956,\n",
       "       -0.6815449 , -0.62489474, -0.2055029 ,  0.42115396, -0.34259957,\n",
       "       -0.9999999 ,  0.21770614, -0.46383506,  0.6847347 , -0.565292  ,\n",
       "        0.835646  , -0.18118998, -0.63006175, -0.2908548 ,  0.75432396,\n",
       "        0.78422296, -0.32461092, -0.48916265,  0.70046616, -0.01140861,\n",
       "        0.9181287 ,  0.4696454 , -0.6665701 , -0.01878962,  0.7894709 ,\n",
       "       -0.91329855, -0.53991795,  0.5408393 ], dtype=float32)"
      ]
     },
     "execution_count": 102,
     "metadata": {},
     "output_type": "execute_result"
    }
   ],
   "source": [
    "embedding = generate_embedding(inp, att)\n",
    "embedding.numpy()"
   ]
  },
  {
   "cell_type": "code",
   "execution_count": null,
   "metadata": {},
   "outputs": [],
   "source": [
    "def index_embedding(embedding, title, id, categories):\n",
    "    # Add the embedding to the indexing system\n",
    "    index.add(embedding.numpy())"
   ]
  },
  {
   "cell_type": "code",
   "execution_count": null,
   "metadata": {},
   "outputs": [],
   "source": [
    "with open(\"./ml-papers.txt\", \"r\") as f:\n",
    "    for line in f:\n",
    "        tokenized = tokenize_entry(line)\n",
    "        inputs, attentions = generate_chunks(tokenized)\n",
    "        embedding = generate_embedding(inputs, attentions)\n",
    "        "
   ]
  },
  {
   "cell_type": "code",
   "execution_count": 104,
   "metadata": {},
   "outputs": [
    {
     "data": {
      "text/plain": [
       "[0, 50, 100, 150]"
      ]
     },
     "execution_count": 104,
     "metadata": {},
     "output_type": "execute_result"
    }
   ],
   "source": [
    "list(range(0, 190, 50))"
   ]
  },
  {
   "cell_type": "code",
   "execution_count": 105,
   "metadata": {},
   "outputs": [
    {
     "data": {
      "text/plain": [
       "[1, 2, 3]"
      ]
     },
     "execution_count": 105,
     "metadata": {},
     "output_type": "execute_result"
    }
   ],
   "source": [
    "[1,2,3][:7]"
   ]
  },
  {
   "cell_type": "code",
   "execution_count": null,
   "metadata": {},
   "outputs": [],
   "source": []
  }
 ],
 "metadata": {
  "kernelspec": {
   "display_name": "Python 3.11.4 64-bit",
   "language": "python",
   "name": "python3"
  },
  "language_info": {
   "codemirror_mode": {
    "name": "ipython",
    "version": 3
   },
   "file_extension": ".py",
   "mimetype": "text/x-python",
   "name": "python",
   "nbconvert_exporter": "python",
   "pygments_lexer": "ipython3",
   "version": "3.11.4"
  },
  "orig_nbformat": 4,
  "vscode": {
   "interpreter": {
    "hash": "b0fa6594d8f4cbf19f97940f81e996739fb7646882a419484c72d19e05852a7e"
   }
  }
 },
 "nbformat": 4,
 "nbformat_minor": 2
}
