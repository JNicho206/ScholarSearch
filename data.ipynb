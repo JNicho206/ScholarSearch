{
 "cells": [
  {
   "cell_type": "code",
   "execution_count": 2,
   "metadata": {},
   "outputs": [],
   "source": [
    "import json"
   ]
  },
  {
   "cell_type": "markdown",
   "metadata": {},
   "source": [
    "# Getting the paper ids"
   ]
  },
  {
   "cell_type": "code",
   "execution_count": 3,
   "metadata": {},
   "outputs": [],
   "source": [
    "#categories = [\"AI\", \"CL\", \"CC\", \"CE\", \"GT\", \"CV\", \"CR\", \"DS\", \"DB\", \"DC\", \"ET\", \"GL\", \"HC\", \"LG\", \"MS\", \"NI\", \"NE\", \"OS\", \"OH\", \"PL\", \"RO\", \"SE\", \"SD\"]\n",
    "categories = [\"AI\", \"ML\", \"CV\"]\n",
    "entries = []\n",
    "data = []"
   ]
  },
  {
   "cell_type": "code",
   "execution_count": 4,
   "metadata": {},
   "outputs": [],
   "source": [
    "with open(\"./arxiv-metadata-oai-snapshot.json\", \"r\") as f:\n",
    "    for line in f:\n",
    "        data.append(json.loads(line))\n",
    "    \n",
    "    for entry in data:\n",
    "        cat = entry[\"categories\"].split()\n",
    "        for c in cat:\n",
    "            spl = c.split(\".\")\n",
    "            if spl[0] == \"cs\":\n",
    "                if spl[1] in categories:\n",
    "                    e = {\n",
    "                        \"title\": entry[\"title\"],\n",
    "                        \"id\": entry[\"id\"],\n",
    "                        \"abstract\": entry[\"abstract\"],\n",
    "                        \"categories\": entry[\"categories\"]\n",
    "                    }\n",
    "                    entries.append(e)\n",
    "                    break"
   ]
  },
  {
   "cell_type": "code",
   "execution_count": 5,
   "metadata": {},
   "outputs": [
    {
     "data": {
      "text/plain": [
       "190109"
      ]
     },
     "execution_count": 5,
     "metadata": {},
     "output_type": "execute_result"
    }
   ],
   "source": [
    "len(entries)"
   ]
  },
  {
   "cell_type": "code",
   "execution_count": 6,
   "metadata": {},
   "outputs": [],
   "source": [
    "with open(\"ml-papers.txt\", \"w\") as f:\n",
    "    for e in entries:\n",
    "        f.write(str(e) + \"\\n\")"
   ]
  },
  {
   "cell_type": "markdown",
   "metadata": {},
   "source": [
    "# Downloading the Papers"
   ]
  },
  {
   "cell_type": "code",
   "execution_count": null,
   "metadata": {},
   "outputs": [],
   "source": [
    "import os\n",
    "import subprocess"
   ]
  },
  {
   "cell_type": "code",
   "execution_count": null,
   "metadata": {},
   "outputs": [],
   "source": [
    "#CMD = \"/Users/jonah/google-cloud-sdk/bin/gcloud storage ls \"\n",
    "CMD = \"/Users/jonah/google-cloud-sdk/bin/gcloud\"\n",
    "BUCKET = \"gs://arxiv-dataset/arxiv/\"\n",
    "OUTPATH = \"./papers/\"\n",
    "IDPATH = \"./paper-ids.txt\"\n",
    "EXT = \".pdf\""
   ]
  },
  {
   "cell_type": "code",
   "execution_count": null,
   "metadata": {},
   "outputs": [],
   "source": [
    "ids_saved = [] # After downloading, add id here\n"
   ]
  },
  {
   "cell_type": "code",
   "execution_count": null,
   "metadata": {},
   "outputs": [],
   "source": [
    "result = subprocess.run([CMD, \"storage\", \"ls\", BUCKET + \"arxiv/pdf/\" + \"0704/\" + \"0704.0047v1\" + EXT], stdout=subprocess.PIPE, stderr=subprocess.PIPE, text=True)"
   ]
  },
  {
   "cell_type": "code",
   "execution_count": null,
   "metadata": {},
   "outputs": [],
   "source": [
    "result.stdout"
   ]
  },
  {
   "cell_type": "code",
   "execution_count": 35,
   "metadata": {},
   "outputs": [
    {
     "data": {
      "text/plain": [
       "1"
      ]
     },
     "execution_count": 35,
     "metadata": {},
     "output_type": "execute_result"
    }
   ],
   "source": [
    "result = subprocess.run([CMD, \"storage\", \"cp\", \"gs://arxiv-dataset/arxiv/arxiv/pdf/0704/0704.0047v2.pdf\", OUTPATH], stdout=subprocess.PIPE, stderr=subprocess.PIPE, text=True)\n",
    "result.returncode"
   ]
  },
  {
   "cell_type": "code",
   "execution_count": 36,
   "metadata": {},
   "outputs": [
    {
     "name": "stdout",
     "output_type": "stream",
     "text": [
      "Looking for gs://arxiv-dataset/arxiv/arxiv/pdf/0704/0704.0047v1.pdf version 1\n",
      "Looking for gs://arxiv-dataset/arxiv/arxiv/pdf/0704/0704.0047v2.pdf version 2\n",
      "#100 gs://arxiv-dataset/arxiv/arxiv/pdf/0704/0704.3878v1.pdf\n",
      "#100 gs://arxiv-dataset/arxiv/arxiv/pdf/0704/0704.3878v2.pdf\n",
      "#200 gs://arxiv-dataset/arxiv/arxiv/pdf/0705/0705.1452v1.pdf\n",
      "#200 gs://arxiv-dataset/arxiv/arxiv/pdf/0705/0705.1452v2.pdf\n",
      "#300 gs://arxiv-dataset/arxiv/arxiv/pdf/0706/0706.0022v1.pdf\n",
      "#300 gs://arxiv-dataset/arxiv/arxiv/pdf/0706/0706.0022v2.pdf\n",
      "#400 gs://arxiv-dataset/arxiv/arxiv/pdf/0706/0706.4035v1.pdf\n",
      "#400 gs://arxiv-dataset/arxiv/arxiv/pdf/0706/0706.4035v2.pdf\n",
      "#500 gs://arxiv-dataset/arxiv/arxiv/pdf/0707/0707.2270v1.pdf\n",
      "#500 gs://arxiv-dataset/arxiv/arxiv/pdf/0707/0707.2270v2.pdf\n",
      "#600 gs://arxiv-dataset/arxiv/arxiv/pdf/0708/0708.1116v1.pdf\n",
      "#600 gs://arxiv-dataset/arxiv/arxiv/pdf/0708/0708.1116v2.pdf\n",
      "#600 gs://arxiv-dataset/arxiv/arxiv/pdf/0708/0708.1116v3.pdf\n",
      "#600 gs://arxiv-dataset/arxiv/arxiv/pdf/0708/0708.1116v4.pdf\n",
      "#700 gs://arxiv-dataset/arxiv/arxiv/pdf/0708/0708.4399v1.pdf\n",
      "#700 gs://arxiv-dataset/arxiv/arxiv/pdf/0708/0708.4399v2.pdf\n",
      "#700 gs://arxiv-dataset/arxiv/arxiv/pdf/0708/0708.4399v3.pdf\n",
      "#800 gs://arxiv-dataset/arxiv/arxiv/pdf/0709/0709.3974v1.pdf\n",
      "#800 gs://arxiv-dataset/arxiv/arxiv/pdf/0709/0709.3974v2.pdf\n",
      "#900 gs://arxiv-dataset/arxiv/arxiv/pdf/0710/0710.3185v1.pdf\n",
      "#900 gs://arxiv-dataset/arxiv/arxiv/pdf/0710/0710.3185v2.pdf\n",
      "#1000 gs://arxiv-dataset/arxiv/arxiv/pdf/0710/0710.5582v1.pdf\n",
      "#1000 gs://arxiv-dataset/arxiv/arxiv/pdf/0710/0710.5582v2.pdf\n",
      "Looking for gs://arxiv-dataset/arxiv/arxiv/pdf/0710/0710.5674v1.pdf version 1\n",
      "Looking for gs://arxiv-dataset/arxiv/arxiv/pdf/0710/0710.5674v2.pdf version 2\n",
      "#1100 gs://arxiv-dataset/arxiv/arxiv/pdf/0711/0711.3099v1.pdf\n",
      "#1100 gs://arxiv-dataset/arxiv/arxiv/pdf/0711/0711.3099v2.pdf\n",
      "#1200 gs://arxiv-dataset/arxiv/arxiv/pdf/0712/0712.0109v1.pdf\n",
      "#1200 gs://arxiv-dataset/arxiv/arxiv/pdf/0712/0712.0109v2.pdf\n"
     ]
    },
    {
     "ename": "KeyboardInterrupt",
     "evalue": "",
     "output_type": "error",
     "traceback": [
      "\u001b[0;31m---------------------------------------------------------------------------\u001b[0m",
      "\u001b[0;31mKeyboardInterrupt\u001b[0m                         Traceback (most recent call last)",
      "Cell \u001b[0;32mIn[36], line 24\u001b[0m\n\u001b[1;32m     21\u001b[0m \u001b[38;5;28;01mif\u001b[39;00m (i \u001b[38;5;241m%\u001b[39m \u001b[38;5;241m1000\u001b[39m) \u001b[38;5;241m==\u001b[39m \u001b[38;5;241m1\u001b[39m:\n\u001b[1;32m     22\u001b[0m     \u001b[38;5;28mprint\u001b[39m(\u001b[38;5;124mf\u001b[39m\u001b[38;5;124m\"\u001b[39m\u001b[38;5;124mLooking for \u001b[39m\u001b[38;5;132;01m{\u001b[39;00mobjpath\u001b[38;5;132;01m}\u001b[39;00m\u001b[38;5;124m version \u001b[39m\u001b[38;5;132;01m{\u001b[39;00mversion\u001b[38;5;132;01m}\u001b[39;00m\u001b[38;5;124m\"\u001b[39m)\n\u001b[0;32m---> 24\u001b[0m result \u001b[38;5;241m=\u001b[39m \u001b[43msubprocess\u001b[49m\u001b[38;5;241;43m.\u001b[39;49m\u001b[43mrun\u001b[49m\u001b[43m(\u001b[49m\u001b[43m[\u001b[49m\u001b[43mCMD\u001b[49m\u001b[43m,\u001b[49m\u001b[43m \u001b[49m\u001b[38;5;124;43m\"\u001b[39;49m\u001b[38;5;124;43mstorage\u001b[39;49m\u001b[38;5;124;43m\"\u001b[39;49m\u001b[43m,\u001b[49m\u001b[43m \u001b[49m\u001b[38;5;124;43m\"\u001b[39;49m\u001b[38;5;124;43mcp\u001b[39;49m\u001b[38;5;124;43m\"\u001b[39;49m\u001b[43m,\u001b[49m\u001b[43m \u001b[49m\u001b[43mobjpath\u001b[49m\u001b[43m,\u001b[49m\u001b[43m \u001b[49m\u001b[43mOUTPATH\u001b[49m\u001b[43m]\u001b[49m\u001b[43m,\u001b[49m\u001b[43m \u001b[49m\u001b[43mstdout\u001b[49m\u001b[38;5;241;43m=\u001b[39;49m\u001b[43msubprocess\u001b[49m\u001b[38;5;241;43m.\u001b[39;49m\u001b[43mPIPE\u001b[49m\u001b[43m,\u001b[49m\u001b[43m \u001b[49m\u001b[43mstderr\u001b[49m\u001b[38;5;241;43m=\u001b[39;49m\u001b[43msubprocess\u001b[49m\u001b[38;5;241;43m.\u001b[39;49m\u001b[43mPIPE\u001b[49m\u001b[43m,\u001b[49m\u001b[43m \u001b[49m\u001b[43mtext\u001b[49m\u001b[38;5;241;43m=\u001b[39;49m\u001b[38;5;28;43;01mTrue\u001b[39;49;00m\u001b[43m)\u001b[49m\n\u001b[1;32m     26\u001b[0m err \u001b[38;5;241m=\u001b[39m result\u001b[38;5;241m.\u001b[39mreturncode \u001b[38;5;241m==\u001b[39m \u001b[38;5;241m1\u001b[39m\n\u001b[1;32m     28\u001b[0m \u001b[38;5;28;01mif\u001b[39;00m (i \u001b[38;5;241m%\u001b[39m \u001b[38;5;241m100\u001b[39m \u001b[38;5;241m==\u001b[39m \u001b[38;5;241m0\u001b[39m):\n",
      "File \u001b[0;32m/opt/homebrew/Cellar/python@3.11/3.11.4_1/Frameworks/Python.framework/Versions/3.11/lib/python3.11/subprocess.py:550\u001b[0m, in \u001b[0;36mrun\u001b[0;34m(input, capture_output, timeout, check, *popenargs, **kwargs)\u001b[0m\n\u001b[1;32m    548\u001b[0m \u001b[39mwith\u001b[39;00m Popen(\u001b[39m*\u001b[39mpopenargs, \u001b[39m*\u001b[39m\u001b[39m*\u001b[39mkwargs) \u001b[39mas\u001b[39;00m process:\n\u001b[1;32m    549\u001b[0m     \u001b[39mtry\u001b[39;00m:\n\u001b[0;32m--> 550\u001b[0m         stdout, stderr \u001b[39m=\u001b[39m process\u001b[39m.\u001b[39;49mcommunicate(\u001b[39minput\u001b[39;49m, timeout\u001b[39m=\u001b[39;49mtimeout)\n\u001b[1;32m    551\u001b[0m     \u001b[39mexcept\u001b[39;00m TimeoutExpired \u001b[39mas\u001b[39;00m exc:\n\u001b[1;32m    552\u001b[0m         process\u001b[39m.\u001b[39mkill()\n",
      "File \u001b[0;32m/opt/homebrew/Cellar/python@3.11/3.11.4_1/Frameworks/Python.framework/Versions/3.11/lib/python3.11/subprocess.py:1209\u001b[0m, in \u001b[0;36mPopen.communicate\u001b[0;34m(self, input, timeout)\u001b[0m\n\u001b[1;32m   1206\u001b[0m     endtime \u001b[39m=\u001b[39m \u001b[39mNone\u001b[39;00m\n\u001b[1;32m   1208\u001b[0m \u001b[39mtry\u001b[39;00m:\n\u001b[0;32m-> 1209\u001b[0m     stdout, stderr \u001b[39m=\u001b[39m \u001b[39mself\u001b[39;49m\u001b[39m.\u001b[39;49m_communicate(\u001b[39minput\u001b[39;49m, endtime, timeout)\n\u001b[1;32m   1210\u001b[0m \u001b[39mexcept\u001b[39;00m \u001b[39mKeyboardInterrupt\u001b[39;00m:\n\u001b[1;32m   1211\u001b[0m     \u001b[39m# https://bugs.python.org/issue25942\u001b[39;00m\n\u001b[1;32m   1212\u001b[0m     \u001b[39m# See the detailed comment in .wait().\u001b[39;00m\n\u001b[1;32m   1213\u001b[0m     \u001b[39mif\u001b[39;00m timeout \u001b[39mis\u001b[39;00m \u001b[39mnot\u001b[39;00m \u001b[39mNone\u001b[39;00m:\n",
      "File \u001b[0;32m/opt/homebrew/Cellar/python@3.11/3.11.4_1/Frameworks/Python.framework/Versions/3.11/lib/python3.11/subprocess.py:2108\u001b[0m, in \u001b[0;36mPopen._communicate\u001b[0;34m(self, input, endtime, orig_timeout)\u001b[0m\n\u001b[1;32m   2101\u001b[0m     \u001b[39mself\u001b[39m\u001b[39m.\u001b[39m_check_timeout(endtime, orig_timeout,\n\u001b[1;32m   2102\u001b[0m                         stdout, stderr,\n\u001b[1;32m   2103\u001b[0m                         skip_check_and_raise\u001b[39m=\u001b[39m\u001b[39mTrue\u001b[39;00m)\n\u001b[1;32m   2104\u001b[0m     \u001b[39mraise\u001b[39;00m \u001b[39mRuntimeError\u001b[39;00m(  \u001b[39m# Impossible :)\u001b[39;00m\n\u001b[1;32m   2105\u001b[0m         \u001b[39m'\u001b[39m\u001b[39m_check_timeout(..., skip_check_and_raise=True) \u001b[39m\u001b[39m'\u001b[39m\n\u001b[1;32m   2106\u001b[0m         \u001b[39m'\u001b[39m\u001b[39mfailed to raise TimeoutExpired.\u001b[39m\u001b[39m'\u001b[39m)\n\u001b[0;32m-> 2108\u001b[0m ready \u001b[39m=\u001b[39m selector\u001b[39m.\u001b[39;49mselect(timeout)\n\u001b[1;32m   2109\u001b[0m \u001b[39mself\u001b[39m\u001b[39m.\u001b[39m_check_timeout(endtime, orig_timeout, stdout, stderr)\n\u001b[1;32m   2111\u001b[0m \u001b[39m# XXX Rewrite these to use non-blocking I/O on the file\u001b[39;00m\n\u001b[1;32m   2112\u001b[0m \u001b[39m# objects; they are no longer using C stdio!\u001b[39;00m\n",
      "File \u001b[0;32m/opt/homebrew/Cellar/python@3.11/3.11.4_1/Frameworks/Python.framework/Versions/3.11/lib/python3.11/selectors.py:415\u001b[0m, in \u001b[0;36m_PollLikeSelector.select\u001b[0;34m(self, timeout)\u001b[0m\n\u001b[1;32m    413\u001b[0m ready \u001b[39m=\u001b[39m []\n\u001b[1;32m    414\u001b[0m \u001b[39mtry\u001b[39;00m:\n\u001b[0;32m--> 415\u001b[0m     fd_event_list \u001b[39m=\u001b[39m \u001b[39mself\u001b[39m\u001b[39m.\u001b[39m_selector\u001b[39m.\u001b[39mpoll(timeout)\n\u001b[1;32m    416\u001b[0m \u001b[39mexcept\u001b[39;00m \u001b[39mInterruptedError\u001b[39;00m:\n\u001b[1;32m    417\u001b[0m     \u001b[39mreturn\u001b[39;00m ready\n",
      "\u001b[0;31mKeyboardInterrupt\u001b[0m: "
     ]
    }
   ],
   "source": [
    "paths = []\n",
    "i = 1\n",
    "with open(IDPATH, \"r\") as f:\n",
    "    for id in f: # Per line\n",
    "        version = 0\n",
    "        id = id.strip(\"\\n\")\n",
    "        spl = id.split('.')\n",
    "        objpath = None\n",
    "        result = \"\"\n",
    "        err = False\n",
    "        # Find most recent version\n",
    "        while err != True:\n",
    "            version += 1\n",
    "            if len(spl) != 1: # id form ####.#####\n",
    "                objpath = BUCKET + \"arxiv/pdf/\" + spl[0] + \"/\" + id + \"v\" + str(version) + EXT\n",
    "\n",
    "            else: # id form abcd/#######\n",
    "                spl = id.split(\"/\")\n",
    "                objpath = BUCKET + spl[0] + \"/pdf/\" + spl[1][:4] + \"/\" + spl[1] + \"v\" + str(version) + EXT\n",
    "\n",
    "            if (i % 1000) == 1:\n",
    "                print(f\"Looking for {objpath} version {version}\")\n",
    "            \n",
    "            result = subprocess.run([CMD, \"storage\", \"cp\", objpath, OUTPATH], stdout=subprocess.PIPE, stderr=subprocess.PIPE, text=True)\n",
    "\n",
    "            err = result.returncode == 1\n",
    "\n",
    "            if (i % 100 == 0):\n",
    "                print(f\"#{i} {objpath}\")\n",
    "\n",
    "            paths.append(objpath)\n",
    "        \n",
    "        \n",
    "        i += 1"
   ]
  },
  {
   "cell_type": "code",
   "execution_count": 38,
   "metadata": {},
   "outputs": [
    {
     "data": {
      "text/plain": [
       "1694"
      ]
     },
     "execution_count": 38,
     "metadata": {},
     "output_type": "execute_result"
    }
   ],
   "source": [
    "len(os.listdir(\"./papers\"))"
   ]
  },
  {
   "cell_type": "code",
   "execution_count": 39,
   "metadata": {},
   "outputs": [
    {
     "name": "stdout",
     "output_type": "stream",
     "text": [
      "Collecting pymupdf\n",
      "  Downloading PyMuPDF-1.24.1-cp311-none-macosx_11_0_arm64.whl.metadata (3.4 kB)\n",
      "Collecting PyMuPDFb==1.24.1 (from pymupdf)\n",
      "  Downloading PyMuPDFb-1.24.1-py3-none-macosx_11_0_arm64.whl.metadata (1.4 kB)\n",
      "Downloading PyMuPDF-1.24.1-cp311-none-macosx_11_0_arm64.whl (3.3 MB)\n",
      "\u001b[2K   \u001b[90m━━━━━━━━━━━━━━━━━━━━━━━━━━━━━━━━━━━━━━━━\u001b[0m \u001b[32m3.3/3.3 MB\u001b[0m \u001b[31m10.7 MB/s\u001b[0m eta \u001b[36m0:00:00\u001b[0ma \u001b[36m0:00:01\u001b[0m\n",
      "\u001b[?25hDownloading PyMuPDFb-1.24.1-py3-none-macosx_11_0_arm64.whl (29.5 MB)\n",
      "\u001b[2K   \u001b[90m━━━━━━━━━━━━━━━━━━━━━━━━━━━━━━━━━━━━━━━━\u001b[0m \u001b[32m29.5/29.5 MB\u001b[0m \u001b[31m15.9 MB/s\u001b[0m eta \u001b[36m0:00:00\u001b[0m00:01\u001b[0m00:01\u001b[0m\n",
      "\u001b[?25hInstalling collected packages: PyMuPDFb, pymupdf\n",
      "Successfully installed PyMuPDFb-1.24.1 pymupdf-1.24.1\n"
     ]
    }
   ],
   "source": [
    "!pip install pymupdf"
   ]
  },
  {
   "cell_type": "code",
   "execution_count": 40,
   "metadata": {},
   "outputs": [],
   "source": [
    "import fitz\n",
    "\n",
    "doc = fitz.open(\"./papers/0712.1765v6.pdf\")"
   ]
  },
  {
   "cell_type": "code",
   "execution_count": 42,
   "metadata": {},
   "outputs": [
    {
     "data": {
      "text/plain": [
       "'2\\nH. GIMBERT AND F. HORN\\na\\nb\\nc\\nd\\n.4\\n.6\\n.3\\n.1\\n.4\\n.1\\n.1\\n.2\\n.8\\n.2\\n.6\\n.2\\nFigure 1: A Simple Stochastic Game.\\ndepends on who can influence the immediate evolution of the system: it is a Min vertex if the\\nsoftware can choose between different options, a Max vertex if there is a (non-deterministic)\\ninput asked from the user, and a random vertex if the evolution depends on a stochastic\\nenvironment. An optimal strategy for Min can then be used as the basis for the synthesis\\nof a “good” driver, i.e. one which minimises the probability of entering the error state\\nindependently of the behaviour of the user.\\nThe main algorithmic problem about SSGs is the computation of values of the vertices\\nand optimal strategies for the players. This problem was first adressed by Condon, who\\nshowed that deciding whether the value of a vertex is greater than 1\\n2 belongs to NP and\\nco-NP [Con92].\\nCondon’s algorithm guesses non-deterministically the values of vertices,\\nwhich are rational numbers of linear size, and checks that they are solutions of some local\\noptimality equations. This algorithm is correct only for stopping games, where the pebble\\nreaches either the target or a sink target with probability one, regardless of the players’\\nstrategies.\\nAny SSG can be transformed in polynomial time into a stopping SSG with\\n(almost) the same values, but it incurs a quadratic blow-up of the size of the game.\\nThree other algorithms for solving SSGs are presented in [Con93]. The first one com-\\nputes the values of the vertices using a quadratic program with linear constraints. The\\nsecond one computes iteratively from below the values of the vertices, and the third is a\\nstrategy improvement algorithm `\\na la Hoffman-Karp [HK66]. The two latter algorithms,\\nas the ones recently proposed in [Som05], solve a series of linear programs which could be\\nof exponential length. Furthermore, solving a linear program requires high-precision arith-\\nmetic, even if it can be done in polynomial time [Kha79, Ren88]. The best randomised\\nalgorithms achieve sub-exponential expected time eO(√n) [Lud95, Hal07].\\nIn this paper we present two algorithms computing the values and optimal strategies\\nin SSGs: the “permutation-enumeration” and the “permutation-improvement” algorithms.\\nThe common basis for both algorithms is that optimal strategies can be looked for in a\\nsubset of the positional strategies called permutation strategies. Permutation strategies are\\nderived from permutations over the random vertices. In order to find optimal strategies, the\\npermutation-enumeration algorithm performs an exhaustive search among all permutation\\nstrategies, whereas the permutation-improvement algorithm performs successive improve-\\nments of permutation strategies, `\\na la Hoffman-Karp [HK66].'"
      ]
     },
     "execution_count": 42,
     "metadata": {},
     "output_type": "execute_result"
    }
   ],
   "source": [
    "doc.load_page(1).get_textbox(\"text\")"
   ]
  },
  {
   "cell_type": "code",
   "execution_count": null,
   "metadata": {},
   "outputs": [],
   "source": []
  }
 ],
 "metadata": {
  "kernelspec": {
   "display_name": "Python 3.11.4 64-bit",
   "language": "python",
   "name": "python3"
  },
  "language_info": {
   "codemirror_mode": {
    "name": "ipython",
    "version": 3
   },
   "file_extension": ".py",
   "mimetype": "text/x-python",
   "name": "python",
   "nbconvert_exporter": "python",
   "pygments_lexer": "ipython3",
   "version": "3.11.4"
  },
  "orig_nbformat": 4,
  "vscode": {
   "interpreter": {
    "hash": "b0fa6594d8f4cbf19f97940f81e996739fb7646882a419484c72d19e05852a7e"
   }
  }
 },
 "nbformat": 4,
 "nbformat_minor": 2
}
